{
  "nbformat": 4,
  "nbformat_minor": 0,
  "metadata": {
    "colab": {
      "provenance": [],
      "collapsed_sections": [],
      "include_colab_link": true
    },
    "kernelspec": {
      "name": "python3",
      "display_name": "Python 3"
    }
  },
  "cells": [
    {
      "cell_type": "markdown",
      "metadata": {
        "id": "view-in-github",
        "colab_type": "text"
      },
      "source": [
        "<a href=\"https://colab.research.google.com/github/punkmic/Network_Analysis_Twitter_Mentions/blob/master/MSDSNetworkAnalysis_Lab01_MentionsNetwork.ipynb\" target=\"_parent\"><img src=\"https://colab.research.google.com/assets/colab-badge.svg\" alt=\"Open In Colab\"/></a>"
      ]
    },
    {
      "cell_type": "markdown",
      "source": [
        "# MSDS Network Analysis, Lab 1: Build a Mentions Network"
      ],
      "metadata": {
        "id": "Vk76uuU5pxvF"
      }
    },
    {
      "cell_type": "markdown",
      "source": [
        "## ⚡️ Make a Copy\n",
        "\n",
        "Save a copy of this notebook in your Google Drive before continuing. Be sure to edit your own copy, not the original notebook."
      ],
      "metadata": {
        "id": "wsu24hAP4yyw"
      }
    },
    {
      "cell_type": "markdown",
      "source": [
        "## 🚦 Getting started"
      ],
      "metadata": {
        "id": "3pkPnflUqliw"
      }
    },
    {
      "cell_type": "markdown",
      "source": [
        "The labs have the following workflow:\n",
        "\n",
        "**Do the steps.**\n",
        "\n",
        "Work through the notebook step-by-step and execute the code along the way. Be sure you understand what is happening at each step. Don't move on without understanding what the code is doing.\n",
        "\n",
        "**Answer the questions.**\n",
        "\n",
        "Through the lab, there will be a handful of questions for you to answer. These are designed to check that you are following along and to assess your understanding. The answers to these questions should be entered into the Lab quiz, available in the course after this lab assignment."
      ],
      "metadata": {
        "id": "dhh-A6KBqoNV"
      }
    },
    {
      "cell_type": "markdown",
      "source": [
        "## 📓 About this lab"
      ],
      "metadata": {
        "id": "i8RplwezqvFS"
      }
    },
    {
      "cell_type": "markdown",
      "source": [
        "To get started on working toward the goal of completing your project, the two labs will step you through building and plotting two different types of network analyses.\n",
        "\n",
        "In this lab, you will build a Twitter **mentions networks**, which is to say a graph of Tweets related by their **@** user mentions.\n",
        "\n",
        "Let's get started!\n",
        "\n",
        "---"
      ],
      "metadata": {
        "id": "ssOuKemhq04n"
      }
    },
    {
      "cell_type": "markdown",
      "source": [
        "#Imports"
      ],
      "metadata": {
        "id": "3gNOVxdOLfr1"
      }
    },
    {
      "cell_type": "code",
      "metadata": {
        "id": "VEr-dIfv90fP"
      },
      "source": [
        "import gzip\n",
        "import json\n",
        "import networkx as nx\n",
        "import matplotlib.pyplot as plt"
      ],
      "execution_count": null,
      "outputs": []
    },
    {
      "cell_type": "markdown",
      "source": [
        "## Get the data"
      ],
      "metadata": {
        "id": "HPkuKjt-rk_l"
      }
    },
    {
      "cell_type": "markdown",
      "source": [
        "For this project, we have provided a data file of brand-related Tweets which have been harvested using the Twitter API.\n",
        "\n",
        "⤵️ **Before moving forward:** download the data file from the course assets and upload it to the root of your Google Drive."
      ],
      "metadata": {
        "id": "TBb8_RzhrpnO"
      }
    },
    {
      "cell_type": "code",
      "source": [
        "DATA_FILE = \"drive/MyDrive/nikelululemonadidas_tweets.jsonl.gz\""
      ],
      "metadata": {
        "id": "1tvgkueI9d77"
      },
      "execution_count": null,
      "outputs": []
    },
    {
      "cell_type": "markdown",
      "source": [
        "### 📁 Mount Google Drive"
      ],
      "metadata": {
        "id": "B1D-48e2yXxM"
      }
    },
    {
      "cell_type": "code",
      "source": [
        "from google.colab import drive\n",
        "drive.mount('/content/drive')"
      ],
      "metadata": {
        "id": "vnue7KOnjEm1"
      },
      "execution_count": null,
      "outputs": []
    },
    {
      "cell_type": "markdown",
      "source": [
        "### Inspect some of the data"
      ],
      "metadata": {
        "id": "UmphXJQg8kjK"
      }
    },
    {
      "cell_type": "markdown",
      "source": [
        "A Tweet has a lot of metadata that we can make use of during analysis. Twitter provides documentation of a Tweet's structure in the form of a data dictionary here:\n",
        "\n",
        " * [Twitter API v1 Tweet object data dictionary](https://developer.twitter.com/en/docs/twitter-api/v1/data-dictionary/object-model/tweet)\n",
        "\n",
        " * [Twitter API v2 Tweet object data dictionary](https://developer.twitter.com/en/docs/twitter-api/data-dictionary/object-model/tweet)\n"
      ],
      "metadata": {
        "id": "iEbCsuo_8zom"
      }
    },
    {
      "cell_type": "markdown",
      "source": [
        "Let's inspect a few examples from our dataset. The enumeration break will keep this code from running through the whole file, so we can print out a handful of Tweets."
      ],
      "metadata": {
        "id": "3XJYL8SHtwQG"
      }
    },
    {
      "cell_type": "markdown",
      "source": [
        "> 💡 Due to some historical vagaries in the Twitter API, you may find Tweets with either a `full_text` field or a `text` field. The Tweets in the dataset we are using contain `full_text`. In your homework assignments, you are required to implement your functions to handle both cases. An example of that is shown here, even though this data really only contains `full_text`."
      ],
      "metadata": {
        "id": "4r9U0-hsvArP"
      }
    },
    {
      "cell_type": "code",
      "source": [
        "LIMIT = 50\n",
        "\n",
        "# Inspect LIMIT number of Tweets that mention Nike\n",
        "with gzip.open(DATA_FILE) as data_file:\n",
        "    for i, line in enumerate(data_file):\n",
        "        if i >= LIMIT:\n",
        "            break\n",
        "        tweet = json.loads(line)\n",
        "        text = tweet.get(\"full_text\") or tweet.get(\"text\")\n",
        "        if \"nike\" in text.lower():\n",
        "            print(text)"
      ],
      "metadata": {
        "id": "mSrz-9ofjsKs"
      },
      "execution_count": null,
      "outputs": []
    },
    {
      "cell_type": "markdown",
      "source": [
        "### Identify unique users in the mention network"
      ],
      "metadata": {
        "id": "kRlGy7db9rfn"
      }
    },
    {
      "cell_type": "markdown",
      "source": [
        "To begin to build a mentions network, first identify all the users in the dataset. We'll collect users into a dictionary keyed by the user ID.\n",
        "\n",
        "There is a lot of data here, so while we are identifying the users, let's also extract their tweet counts and follower counts. This will provide some filtering critera for culling the set of users to a managable size."
      ],
      "metadata": {
        "id": "XaCxyZqJ56Du"
      }
    },
    {
      "cell_type": "markdown",
      "source": [
        "The user entries, keyed by ID, in our user dictionary will themselves be dictionaries with the structure:\n",
        "\n",
        "```\n",
        "{\n",
        "    \"id\": ID,\n",
        "    \"tweet_count\": TWEET_COUNT,\n",
        "    \"followers_count\": FOLLOWER_COUNT\n",
        "}\n",
        "```\n",
        "\n",
        "A user's count of followers will come directly from the Tweet metadata, whereas we will accumulate the count of Tweets for a user as we iterate the data.\n"
      ],
      "metadata": {
        "id": "GabOoGuQ6ea-"
      }
    },
    {
      "cell_type": "code",
      "metadata": {
        "id": "dGZpQt_A90fk"
      },
      "source": [
        "users = {}\n",
        "\n",
        "with gzip.open(DATA_FILE) as data_file:\n",
        "    for i, line in enumerate(data_file):\n",
        "        if i % 10000 == 0: # Show a periodic status\n",
        "            print(\"%s tweets processed\" % i)\n",
        "        tweet = json.loads(line)\n",
        "        user = tweet[\"user\"]\n",
        "        user_id = user[\"id\"]\n",
        "        if user_id not in users:\n",
        "            users[user_id] = {\n",
        "                \"id\": user_id,\n",
        "                \"tweet_count\": 0,\n",
        "                \"followers_count\": user[\"followers_count\"]\n",
        "            }\n",
        "        users[user_id][\"tweet_count\"] += 1\n",
        "    print(f\"{i} total Tweets processed\")"
      ],
      "execution_count": null,
      "outputs": []
    },
    {
      "cell_type": "markdown",
      "source": [
        "We have 175k tweets! That's a lot of shoe talk."
      ],
      "metadata": {
        "id": "hHuj0rQfN6dX"
      }
    },
    {
      "cell_type": "markdown",
      "source": [
        "---\n",
        "\n",
        "## 🧐 Lab Quiz Question #1\n",
        "\n",
        "Precisely how many unique users are in the data? Use the length of `users` to determine your answer.\n",
        "\n",
        "Be sure to answer this and the remaining lab quiz questions in Lab Quiz 1.\n",
        "\n",
        "---"
      ],
      "metadata": {
        "id": "-QbAOnAfpUHJ"
      }
    },
    {
      "cell_type": "code",
      "source": [
        "len(users)"
      ],
      "metadata": {
        "id": "RcthVo_f9ZdW"
      },
      "execution_count": null,
      "outputs": []
    },
    {
      "cell_type": "markdown",
      "source": [
        "And we have about 104k users"
      ],
      "metadata": {
        "id": "2drXuQzs9auN"
      }
    },
    {
      "cell_type": "markdown",
      "source": [
        "### Cull the list of users\n",
        "\n",
        "Let's reduce the user set to only users with multiple Tweets, and a decent number of followers."
      ],
      "metadata": {
        "id": "0qR6qRme_4hC"
      }
    },
    {
      "cell_type": "markdown",
      "source": [
        "> 🐍 Recall that we collected the users' count data into a dictionary keyed by the user IDs. We can simultaneously iterate over the IDs and user data with a call to `users.items()` which provides an iterable of the dictionary's key-value pairs."
      ],
      "metadata": {
        "id": "kDhSoLOpCEnd"
      }
    },
    {
      "cell_type": "markdown",
      "source": [
        "Here, just collect the IDs needed into a list."
      ],
      "metadata": {
        "id": "U7qZ_gA275IY"
      }
    },
    {
      "cell_type": "code",
      "source": [
        "included_user_ids = []\n",
        "\n",
        "min_tweet_count = 2\n",
        "min_followers_count = 100000\n",
        "\n",
        "for user_id, user in users.items():\n",
        "    if user[\"tweet_count\"] >= min_tweet_count and \\\n",
        "             user[\"followers_count\"] >= min_followers_count:\n",
        "        included_user_ids.append(user_id)"
      ],
      "metadata": {
        "id": "THyEo8iVBvlG"
      },
      "execution_count": null,
      "outputs": []
    },
    {
      "cell_type": "markdown",
      "source": [
        "---\n",
        "\n",
        "## 🧐 Lab Quiz Question #2\n",
        "\n",
        "How many users in this dataset meet the criteria of having at least 2 Tweets, and at least 100000 followers?\n",
        "\n",
        "Use the length of `included_user_ids` to determine your answer.\n",
        "\n",
        "---"
      ],
      "metadata": {
        "id": "DFBr-qIP8FBA"
      }
    },
    {
      "cell_type": "code",
      "source": [
        "len(included_user_ids)"
      ],
      "metadata": {
        "id": "zikAkvTZCb9A"
      },
      "execution_count": null,
      "outputs": []
    },
    {
      "cell_type": "markdown",
      "source": [
        "Inspect a few of the included users. User IDs in Twitter are just numbers."
      ],
      "metadata": {
        "id": "GZJDSt6L8bDj"
      }
    },
    {
      "cell_type": "markdown",
      "source": [
        "> 🤔 **Food for thought**. Why does Twitter use an arbitrary number to identify a user, rather than their @username?"
      ],
      "metadata": {
        "id": "q2gSZhrD8i6Q"
      }
    },
    {
      "cell_type": "code",
      "source": [
        "included_user_ids[:3]"
      ],
      "metadata": {
        "id": "oXvb3NPFIs2K"
      },
      "execution_count": null,
      "outputs": []
    },
    {
      "cell_type": "markdown",
      "source": [
        "## 🧠 Put on your marketing analytics thinking cap"
      ],
      "metadata": {
        "id": "5xTaUM4J9Qiu"
      }
    },
    {
      "cell_type": "markdown",
      "source": [
        "So let's take a minute to define the audience we just cut out of the Twitter data. This is a \"marketing\" specialization, after all. We made two big changes to our population to get the number of nodes (i.e., users we're going to include) down to something reasonable:\n",
        "\n",
        " 1. We first filtered out folks who didn't tweet at least three times about any of these brands.\n",
        " 2. We also put in a requirement that the account had to have at least 100k followers\n",
        "\n",
        "So in marketing terms, who are these people? Well 2+ tweets in a 3-month span, about these brands specifically. These have to be people who regularly talk about athletic wear. Did you or I tweet 3x in the last three months about these brands? Probably not. These are folks who are engaged with these brands.\n",
        "\n",
        "Second, we put a pretty hefty follower count restriction in. The average Twitter user has fewer than a hundred followers (think: far, far under). So 100,000 people, these have to be either brand accounts, or individuals that are very influential online, offline or both. \n",
        "\n",
        "So we have engaged influentials. If we're presenting this data to someone, that can't be lost. These aren't just common folks tweetin' about Nike."
      ],
      "metadata": {
        "id": "hIxK0CHXLd0_"
      }
    },
    {
      "cell_type": "markdown",
      "source": [
        "### ％ Thinking in terms of population percentage"
      ],
      "metadata": {
        "id": "Oi9_c7zi-Psh"
      }
    },
    {
      "cell_type": "code",
      "source": [
        "len(included_user_ids) / len(users) "
      ],
      "metadata": {
        "id": "R1crh7WiI9VE"
      },
      "execution_count": null,
      "outputs": []
    },
    {
      "cell_type": "markdown",
      "source": [
        "A 99% reduction in our nodes. That's a pretty steep cut, and I worry that if we go any higher we're just going to get bots or brands who regularly tweet about one or all of these brands. P.S. -- let's face it, there are bots in this. What would I do to try and mitigate this? One possibility might be to run the `included_users` through Botometer:\n",
        "https://botometer.osome.iu.edu/api"
      ],
      "metadata": {
        "id": "CRMWu5IRKD41"
      }
    },
    {
      "cell_type": "markdown",
      "source": [
        "## Load the NetworkX graph"
      ],
      "metadata": {
        "id": "uZlwbZeOE-va"
      }
    },
    {
      "cell_type": "markdown",
      "source": [
        "To great the edges of the mentions graph, we need to extract the user @ mentions in the Tweet texts that happen to be mentions of other users in the network.\n",
        "\n",
        "Twitter makes this easy for us by including user mentions in the Tweet's entity metadata."
      ],
      "metadata": {
        "id": "Bjx-ZPfJ_Rdh"
      }
    },
    {
      "cell_type": "markdown",
      "source": [
        "Mentions are a directed relationship, which means we will be creating a directed graph. We will collect this information into a [NetworkX DiGraph](https://networkx.org/documentation/stable/reference/classes/digraph.html) object."
      ],
      "metadata": {
        "id": "kK4BBAV3AB1I"
      }
    },
    {
      "cell_type": "code",
      "source": [
        "graph = nx.DiGraph()"
      ],
      "metadata": {
        "id": "uSM9x3jsS5ar"
      },
      "execution_count": null,
      "outputs": []
    },
    {
      "cell_type": "code",
      "metadata": {
        "id": "ogdYP7BKQr0W"
      },
      "source": [
        "with gzip.open(DATA_FILE) as data_file:\n",
        "    for i, line in enumerate(data_file):\n",
        "        if i % 10000 == 0:\n",
        "            print(\"%s tweets processed\" % i)\n",
        "        tweet = json.loads(line)\n",
        "        sender_id = tweet[\"user\"][\"id\"]\n",
        "        sender_name = tweet[\"user\"][\"screen_name\"]\n",
        "        if sender_id in included_user_ids:\n",
        "            for mention in tweet[\"entities\"][\"user_mentions\"]:\n",
        "                receiver_name = mention[\"screen_name\"]\n",
        "                receiver_id = mention[\"id\"]\n",
        "                if receiver_id in included_user_ids:\n",
        "                    graph.add_edge(sender_name, receiver_name)"
      ],
      "execution_count": null,
      "outputs": []
    },
    {
      "cell_type": "markdown",
      "source": [
        "### Describe the graph"
      ],
      "metadata": {
        "id": "CfcoCjC2B6Tm"
      }
    },
    {
      "cell_type": "markdown",
      "source": [
        "---\n",
        "\n",
        "## 🧐 Lab Quiz Questions 3 & 4\n",
        "\n",
        "How many nodes and how many edges are in the mentions network of users with at least 2 tweets and at least 100k followers?\n",
        "\n",
        "Use the NetworkX `info` function to get the answers.\n",
        "\n",
        "---"
      ],
      "metadata": {
        "id": "v6aZsxNFCGDm"
      }
    },
    {
      "cell_type": "code",
      "source": [
        "nx.info(graph)"
      ],
      "metadata": {
        "id": "xUPHmUmuH_F_"
      },
      "execution_count": null,
      "outputs": []
    },
    {
      "cell_type": "markdown",
      "source": [
        "## Plot the graph"
      ],
      "metadata": {
        "id": "iTfNZtPcLlLs"
      }
    },
    {
      "cell_type": "markdown",
      "source": [
        "For more info about the parameter choices here, take a look at the [NetworkX documentation](https://networkx.org/documentation/stable/reference/generated/networkx.drawing.nx_pylab.draw_networkx.html)"
      ],
      "metadata": {
        "id": "qQ0blEnlL-te"
      }
    },
    {
      "cell_type": "code",
      "source": [
        "fig, ax = plt.subplots(1, 1, figsize=(300, 300))\n",
        "nx.draw_networkx(graph, ax=ax, font_color=\"#FFFFFF\", font_size=20, node_size=30000, width=4, arrowsize=100)"
      ],
      "metadata": {
        "id": "zbhvxJFle9TU"
      },
      "execution_count": null,
      "outputs": []
    },
    {
      "cell_type": "code",
      "source": [],
      "metadata": {
        "id": "ccRXGmPOFBC9"
      },
      "execution_count": null,
      "outputs": []
    }
  ]
}